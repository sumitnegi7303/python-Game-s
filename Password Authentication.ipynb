{
 "cells": [
  {
   "cell_type": "code",
   "execution_count": 1,
   "id": "87f1ad9a",
   "metadata": {},
   "outputs": [
    {
     "ename": "SyntaxError",
     "evalue": "invalid syntax (Temp/ipykernel_19476/535027991.py, line 7)",
     "output_type": "error",
     "traceback": [
      "\u001b[1;36m  File \u001b[1;32m\"C:\\Users\\GOURAV~1\\AppData\\Local\\Temp/ipykernel_19476/535027991.py\"\u001b[1;36m, line \u001b[1;32m7\u001b[0m\n\u001b[1;33m    while password ! = database.get(i):\u001b[0m\n\u001b[1;37m                   ^\u001b[0m\n\u001b[1;31mSyntaxError\u001b[0m\u001b[1;31m:\u001b[0m invalid syntax\n"
     ]
    }
   ],
   "source": [
    "import getpass\n",
    "database = {\"clcoding\": \"976729\", \"pythonclcoding\": \"2502\"}\n",
    "username = input(\"Enter the Username : \")\n",
    "password = getpass.getpass(\"Enter your password :\")\n",
    "for i in database.keys():\n",
    "    if username == i:\n",
    "        while password ! = database.get(i):\n",
    "            password = getpass.getpass(\"Enter your password Again :\")\n",
    "        break\n",
    "print(\"verified\")\n",
    "\n"
   ]
  },
  {
   "cell_type": "code",
   "execution_count": 2,
   "id": "e72b720c",
   "metadata": {},
   "outputs": [
    {
     "name": "stdout",
     "output_type": "stream",
     "text": [
      "Enter your Username : sumit\n",
      "Enter yourpassword : ········\n",
      "Verified\n"
     ]
    }
   ],
   "source": [
    "import getpass\n",
    "database = {\"clcoding\": \"976729\" , \"pythonclcoding\": \"2502\"}\n",
    "username = input(\"Enter your Username : \")\n",
    "password = getpass.getpass(\"Enter yourpassword : \")\n",
    "for i in database.keys():\n",
    "    if username ==i:\n",
    "        while password != database.get(i):\n",
    "            password = getpass.getpass(\"Enter your password Again : \")\n",
    "        break\n",
    "print(\"Verified\")\n"
   ]
  },
  {
   "cell_type": "code",
   "execution_count": 3,
   "id": "dd7d7089",
   "metadata": {},
   "outputs": [
    {
     "name": "stdout",
     "output_type": "stream",
     "text": [
      "Enter your Username : komal\n",
      "Enter yourpassword : ········\n",
      "Verified\n"
     ]
    }
   ],
   "source": [
    "import getpass\n",
    "database = {\"clcoding\": \"976729\" , \"pythonclcoding\": \"2502\"}\n",
    "username = input(\"Enter your Username : \")\n",
    "password = getpass.getpass(\"Enter yourpassword : \")\n",
    "for i in database.keys():\n",
    "    if username ==i:\n",
    "        while password != database.get(i):\n",
    "            password = getpass.getpass(\"Enter your password Again : \")\n",
    "        break\n",
    "print(\"Verified\")\n"
   ]
  },
  {
   "cell_type": "code",
   "execution_count": null,
   "id": "2409e8a5",
   "metadata": {},
   "outputs": [],
   "source": [
    "import getpass\n",
    "databse = {\"clcoding\" : \"976729\" , \"pythoncloding\" : \"2502\"}\n",
    "Username = input(\"Enter The Username :\")\n",
    "password = getpass.getpass(\"Enter yourpassword :\")\n",
    "for i in databse.keys():\n",
    "    if username ==i :\n",
    "        while password !=databse.get(i):\n",
    "            passord = getpass.getpass(\"Enter your password Again :\")\n",
    "        break\n",
    "print(\"Verfied\")"
   ]
  },
  {
   "cell_type": "code",
   "execution_count": null,
   "id": "24e0f943",
   "metadata": {},
   "outputs": [],
   "source": []
  }
 ],
 "metadata": {
  "kernelspec": {
   "display_name": "Python 3 (ipykernel)",
   "language": "python",
   "name": "python3"
  },
  "language_info": {
   "codemirror_mode": {
    "name": "ipython",
    "version": 3
   },
   "file_extension": ".py",
   "mimetype": "text/x-python",
   "name": "python",
   "nbconvert_exporter": "python",
   "pygments_lexer": "ipython3",
   "version": "3.9.7"
  }
 },
 "nbformat": 4,
 "nbformat_minor": 5
}
