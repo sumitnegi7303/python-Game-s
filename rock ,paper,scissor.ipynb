{
 "cells": [
  {
   "cell_type": "markdown",
   "id": "3c331c70",
   "metadata": {},
   "source": [
    "import random\n",
    "\n",
    "player1 = input(\"Choose Rock, paper, or Scissor :\").lower()\n",
    "player2 = random.choice([\"Rock\", \"paper\", \"Scissor\"]).lower()\n",
    "print(\"Player 2 Chose:\", player2)\n",
    "\n",
    "if player1 == \"rock\" and player2 == \"paper\":\n",
    "    print(\"player 2 Won\")\n",
    "elif player1 == \"paper\" and player2 == \"Scissor\":\n",
    "    print(\"player 2 won\")\n",
    "elif player1 == \"Scissor\" and player2 == \"rock\":\n",
    "    print(\"player2 won\")\n",
    "elif player1 == player2:\n",
    "    print(\"It's a Tie\")\n",
    "else :\n",
    "    print(\"PLayer1 won\")"
   ]
  },
  {
   "cell_type": "code",
   "execution_count": 8,
   "id": "8fd8f9a7",
   "metadata": {},
   "outputs": [
    {
     "name": "stdout",
     "output_type": "stream",
     "text": [
      "Choose Rock, paper, or Scissor :paper\n",
      "Player 2 Chose: scissor\n",
      "PLayer1 won\n"
     ]
    }
   ],
   "source": [
    "import random\n",
    "\n",
    "player1 = input(\"Choose Rock, paper, or Scissor :\").lower()\n",
    "player2 = random.choice([\"Rock\", \"paper\", \"Scissor\"]).lower()\n",
    "print(\"Player 2 Chose:\", player2)\n",
    "\n",
    "if player1 == \"rock\" and player2 == \"paper\":\n",
    "    print(\"player 2 Won\")\n",
    "elif player1 == \"paper\" and player2 == \"Scissor\":\n",
    "    print(\"player 2 won\")\n",
    "elif player1 == \"Scissor\" and player2 == \"rock\":\n",
    "    print(\"player2 won\")\n",
    "elif player1 == player2:\n",
    "    print(\"It's a Tie\")\n",
    "else :\n",
    "    print(\"PLayer1 won\")"
   ]
  },
  {
   "cell_type": "code",
   "execution_count": null,
   "id": "e40bc707",
   "metadata": {},
   "outputs": [],
   "source": [
    "import random\n",
    "\n",
    "player1 = input(\"Choose Rock, paper, or Scissor :\").lower()\n",
    "player2 = random.choice([\"Rock\", \"paper\", \"Scissor\"]).lower()\n",
    "print(\"Player 2 Chose:\", player2)\n",
    "\n",
    "if player1 == \"rock\" and player2 == \"paper\":\n",
    "    print(\"player 2 Won\")\n",
    "elif player1 == \"paper\" and player2 == \"Scissor\":\n",
    "    print(\"player 2 won\")\n",
    "elif player1 == \"Scissor\" and player2 == \"rock\":\n",
    "    print(\"player2 won\")\n",
    "elif player1 == player2:\n",
    "    print(\"It's a Tie\")\n",
    "else :\n",
    "    print(\"PLayer1 won\")"
   ]
  }
 ],
 "metadata": {
  "kernelspec": {
   "display_name": "Python 3 (ipykernel)",
   "language": "python",
   "name": "python3"
  },
  "language_info": {
   "codemirror_mode": {
    "name": "ipython",
    "version": 3
   },
   "file_extension": ".py",
   "mimetype": "text/x-python",
   "name": "python",
   "nbconvert_exporter": "python",
   "pygments_lexer": "ipython3",
   "version": "3.9.7"
  }
 },
 "nbformat": 4,
 "nbformat_minor": 5
}
