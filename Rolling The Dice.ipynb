{
 "cells": [
  {
   "cell_type": "markdown",
   "id": "584d18e6",
   "metadata": {},
   "source": [
    "import random\n",
    "\n",
    "class PYGame:\n",
    "    def __init__(Self):\n",
    "        Self.min = 1\n",
    "        Self.max = 6\n",
    "        Self.rollAgain = \"y\"\n",
    "        \n",
    "    def rollTheDices(Self):\n",
    "        print(\"Rolling the dices...\")\n",
    "        print(\"The values are:\")\n",
    "        d1 = random.randint(Self.min, Self.max)\n",
    "        d2 = random.randint(Self.min, Self.max)\n",
    "        print(d1)\n",
    "        print(d2)\n",
    "        \n",
    "    def StartGame(Self):\n",
    "        while Self.rollAgain ==\"y\":\n",
    "            Self.rollTheDices()\n",
    "            Self.rollAgain = input(\"Roll again (y/n)?\")\n",
    "            \n",
    "if __name__ == \"__main__\":\n",
    "    game = PYGame()\n",
    "    game.StartGame()"
   ]
  },
  {
   "cell_type": "code",
   "execution_count": 36,
   "id": "d30325ce",
   "metadata": {},
   "outputs": [
    {
     "name": "stdout",
     "output_type": "stream",
     "text": [
      "Rolling the dices...\n",
      "The value are:\n",
      "2\n",
      "2\n",
      "Roll again (y/n)?n\n"
     ]
    }
   ],
   "source": [
    "import random\n",
    "\n",
    "class PYGame:\n",
    "    def __init__(Self):\n",
    "        Self.min = 1\n",
    "        Self.max = 6\n",
    "        Self.rollAgain = \"y\"\n",
    "        \n",
    "    def rollTheDices(Self):\n",
    "        print(\"Rolling the dices...\")\n",
    "        print(\"The value are:\")\n",
    "        d1 = random.randint(Self.min, Self.max)\n",
    "        d2 = random.randint(Self.min, Self.max)\n",
    "        print(d1)\n",
    "        print(d2)\n",
    "        \n",
    "    def StartGame(Self):\n",
    "        while Self.rollAgain ==\"y\":\n",
    "            Self.rollTheDices()\n",
    "            Self.rollAgain = input(\"Roll again (y/n)?\")\n",
    "            \n",
    "if __name__ ==\"__main__\":\n",
    "    game = PYGame()\n",
    "    game.StartGame()"
   ]
  },
  {
   "cell_type": "code",
   "execution_count": null,
   "id": "c29fb9e4",
   "metadata": {},
   "outputs": [],
   "source": [
    "import random\n",
    "\n",
    "class PYGame:\n",
    "    def __init__(Self):\n",
    "        Self.min = 1\n",
    "        Self.max = 6\n",
    "        Self.rollAgain = \"y\"\n",
    "        \n",
    "    def rollTheDices(Self):\n",
    "        print(\"Rolling the dices...\")\n",
    "        print(\"The value are:\")\n",
    "        d1 = random.randint(Self.min, Self.max)\n",
    "        d2 = random.randint(Self.min, Self.max)\n",
    "        print(d1)\n",
    "        print(d2)\n",
    "        \n",
    "    def StartGame(Self):\n",
    "        while Self.rollAgain ==\"y\":\n",
    "            Self.rollTheDices()\n",
    "            Self.rollAgain = input(\"Roll again (y/n)?\")\n",
    "            \n",
    "if __name__ ==\"__main__\":\n",
    "    game = PYGame()\n",
    "    game.StartGame()"
   ]
  }
 ],
 "metadata": {
  "kernelspec": {
   "display_name": "Python 3 (ipykernel)",
   "language": "python",
   "name": "python3"
  },
  "language_info": {
   "codemirror_mode": {
    "name": "ipython",
    "version": 3
   },
   "file_extension": ".py",
   "mimetype": "text/x-python",
   "name": "python",
   "nbconvert_exporter": "python",
   "pygments_lexer": "ipython3",
   "version": "3.9.7"
  }
 },
 "nbformat": 4,
 "nbformat_minor": 5
}
