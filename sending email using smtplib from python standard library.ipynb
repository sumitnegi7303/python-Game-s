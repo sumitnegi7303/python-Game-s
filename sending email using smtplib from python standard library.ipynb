{
 "cells": [
  {
   "cell_type": "code",
   "execution_count": 1,
   "id": "6710badf",
   "metadata": {},
   "outputs": [
    {
     "ename": "SyntaxError",
     "evalue": "invalid syntax (Temp/ipykernel_8912/2795682.py, line 7)",
     "output_type": "error",
     "traceback": [
      "\u001b[1;36m  File \u001b[1;32m\"C:\\Users\\GOURAV~1\\AppData\\Local\\Temp/ipykernel_8912/2795682.py\"\u001b[1;36m, line \u001b[1;32m7\u001b[0m\n\u001b[1;33m    message = f \" \" \" \\\u001b[0m\n\u001b[1;37m                ^\u001b[0m\n\u001b[1;31mSyntaxError\u001b[0m\u001b[1;31m:\u001b[0m invalid syntax\n"
     ]
    }
   ],
   "source": [
    "import smtplib\n",
    "\n",
    "sender = \"private  person <from@smtp.mailtrap.io>\"\n",
    "receiver = \"A Test User <to@smtp.mailtrap.io>\"\n",
    "\n",
    "\n",
    "message = f \" \" \" \\\n",
    "subject :Hi Mailtrap\n",
    "To:{receiver}\n",
    "From: {Sender}\n",
    "    \n",
    "This is a test email message. \" \" \"\n",
    "\n",
    "with smtplib.SMTP(\"smtp.mailtrap.io\",2525)as server:\n",
    "    server.login(\"42d1b23a40fa9c\",\"08d476e1122461\")\n",
    "    server.sendmail(sender, receiver, message)"
   ]
  },
  {
   "cell_type": "code",
   "execution_count": null,
   "id": "edb5f43b",
   "metadata": {},
   "outputs": [],
   "source": []
  }
 ],
 "metadata": {
  "kernelspec": {
   "display_name": "Python 3 (ipykernel)",
   "language": "python",
   "name": "python3"
  },
  "language_info": {
   "codemirror_mode": {
    "name": "ipython",
    "version": 3
   },
   "file_extension": ".py",
   "mimetype": "text/x-python",
   "name": "python",
   "nbconvert_exporter": "python",
   "pygments_lexer": "ipython3",
   "version": "3.9.7"
  }
 },
 "nbformat": 4,
 "nbformat_minor": 5
}
