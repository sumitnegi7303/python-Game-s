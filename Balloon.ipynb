{
 "cells": [
  {
   "cell_type": "code",
   "execution_count": 3,
   "id": "885e95c2",
   "metadata": {},
   "outputs": [],
   "source": [
    "class Balloon :\n",
    "    def __intit__(self,speed):\n",
    "        self.a = random.randint(38,40)\n",
    "        self.b = self.a + random.randint(0,10)\n",
    "        self.x = random.randrange(margin, width - self.a - margin)\n",
    "        self.y = height - lowerBound\n",
    "        self.angle = 90\n",
    "        self.speed = -speed\n",
    "        self.probpoll = [-1,-1,-1,0,0,0,0,1,1,1]\n",
    "        self.length = random,randint(50,100)\n",
    "        self.color = random.choice([red,green,purple,orange,yellow,blue])\n",
    "    def move(self):\n",
    "        direct = random.choice(self.probpool)\n",
    "        if direct == -1:\n",
    "            self.angle += -10\n",
    "        elif direct == 0:\n",
    "            self.angle +=0\n",
    "        else :\n",
    "            self.angle += 10\n",
    "        self.y += self.speed*stn(randians(self.angle))\n",
    "        self.x += self.speed*cos(randians(self.angle))\n",
    "        if (self.x + self.a > width) or (self.x < 0):\n",
    "            if self.y > height/5 :\n",
    "                self.x -= self.speed*cos(randians(self.angle))\n",
    "            else:\n",
    "                self.resert()\n",
    "            if self.y + self.b <0 or self.y > height +30:\n",
    "                self.reset()\n",
    "            def show(self):\n",
    "                pygame.draw.line(display,darkblue,(self.x + self.a/2, self.y + self.b),(self.x +self.a/2, self.y + self.b + self.length))\n",
    "                pygame.draw.ellipse(display, self.color,(self.x, self.y, self.a,self.b))\n",
    "                pygame.draw.ellipse(display,self.color,(self.x + self.a/2 -5, self.y +self.b -3 , 10, 10))"
   ]
  }
 ],
 "metadata": {
  "kernelspec": {
   "display_name": "Python 3 (ipykernel)",
   "language": "python",
   "name": "python3"
  },
  "language_info": {
   "codemirror_mode": {
    "name": "ipython",
    "version": 3
   },
   "file_extension": ".py",
   "mimetype": "text/x-python",
   "name": "python",
   "nbconvert_exporter": "python",
   "pygments_lexer": "ipython3",
   "version": "3.9.7"
  }
 },
 "nbformat": 4,
 "nbformat_minor": 5
}
