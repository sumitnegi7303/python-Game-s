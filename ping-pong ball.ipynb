{
 "cells": [
  {
   "cell_type": "code",
   "execution_count": null,
   "id": "2ff5b23d",
   "metadata": {},
   "outputs": [],
   "source": [
    "import turtle\n",
    "\n",
    "# Create Screen\n",
    "SC = turtle.Screen()\n",
    "SC.title(\"pong game\")\n",
    "SC.bgcolor(\"white\")\n",
    "SC.setup(width=1000, height=600)\n",
    "\n",
    "\n",
    "# Left paddle\n",
    "left_pad = turtle.Turtle()\n",
    "left_pad.speed(0)\n",
    "left_pad.shape(\"square\")\n",
    "left_pad.color(\"black\")\n",
    "left_pad.shapesize(stretch_wid=6,stretch_len=2)\n",
    "left_pad.penup()\n",
    "left_pad.goto(-400, 0)\n",
    "\n",
    "\n",
    "# Right paddle\n",
    "right_pad = turtle.Turtle()\n",
    "right_pad.speed(0)\n",
    "right_pad.shape(\"square\")\n",
    "right_pad.color(\"black\")\n",
    "right_pad.shapesize(stretch_wid=6, stretch_len=2)\n",
    "right_pad.penup()\n",
    "left_pad.goto(-400,0)\n",
    "\n",
    "\n",
    "# Ball of circle shape \n",
    "hit_ball = turtle.Turtle()\n",
    "hit_ball.speed(40)\n",
    "hit_ball.shape(\"circle\")\n",
    "hit_ball.color(\"blue\")\n",
    "hit_ball.penup()\n",
    "hit_ball.goto(0, 0 )\n",
    "hit_ball.dx = 5\n",
    "hit_ball.dy = -5"
   ]
  }
 ],
 "metadata": {
  "kernelspec": {
   "display_name": "Python 3 (ipykernel)",
   "language": "python",
   "name": "python3"
  },
  "language_info": {
   "codemirror_mode": {
    "name": "ipython",
    "version": 3
   },
   "file_extension": ".py",
   "mimetype": "text/x-python",
   "name": "python",
   "nbconvert_exporter": "python",
   "pygments_lexer": "ipython3",
   "version": "3.9.7"
  }
 },
 "nbformat": 4,
 "nbformat_minor": 5
}
