{
 "cells": [
  {
   "cell_type": "code",
   "execution_count": 14,
   "id": "1ea6fe56",
   "metadata": {},
   "outputs": [
    {
     "name": "stdout",
     "output_type": "stream",
     "text": [
      "Rock,paper or Scissor ?? paper\n",
      "you choose PAPER\n"
     ]
    },
    {
     "ename": "NameError",
     "evalue": "name 'computer' is not defined",
     "output_type": "error",
     "traceback": [
      "\u001b[1;31m---------------------------------------------------------------------------\u001b[0m",
      "\u001b[1;31mNameError\u001b[0m                                 Traceback (most recent call last)",
      "\u001b[1;32mC:\\Users\\GOURAV~1\\AppData\\Local\\Temp/ipykernel_11776/475280318.py\u001b[0m in \u001b[0;36m<module>\u001b[1;34m\u001b[0m\n\u001b[0;32m      3\u001b[0m \u001b[1;33m\u001b[0m\u001b[0m\n\u001b[0;32m      4\u001b[0m \u001b[1;32mfrom\u001b[0m \u001b[0mrandom\u001b[0m \u001b[1;32mimport\u001b[0m \u001b[0mrandint\u001b[0m\u001b[1;33m\u001b[0m\u001b[1;33m\u001b[0m\u001b[0m\n\u001b[1;32m----> 5\u001b[1;33m \u001b[0mcomputer\u001b[0m \u001b[1;33m-\u001b[0m \u001b[0mrandint\u001b[0m\u001b[1;33m(\u001b[0m\u001b[1;36m1\u001b[0m\u001b[1;33m,\u001b[0m \u001b[1;36m3\u001b[0m\u001b[1;33m)\u001b[0m\u001b[1;33m\u001b[0m\u001b[1;33m\u001b[0m\u001b[0m\n\u001b[0m\u001b[0;32m      6\u001b[0m \u001b[1;33m\u001b[0m\u001b[0m\n\u001b[0;32m      7\u001b[0m \u001b[1;32mif\u001b[0m \u001b[0mcomputer\u001b[0m \u001b[1;33m==\u001b[0m \u001b[1;36m1\u001b[0m\u001b[1;33m:\u001b[0m\u001b[1;33m\u001b[0m\u001b[1;33m\u001b[0m\u001b[0m\n",
      "\u001b[1;31mNameError\u001b[0m: name 'computer' is not defined"
     ]
    }
   ],
   "source": [
    "Player = input(\"Rock,paper or Scissor ?? \")\n",
    "print(\"you choose\", Player.upper())\n",
    "\n",
    "from random import randint\n",
    "computer - randint(1, 3)\n",
    "\n",
    "if computer == 1:\n",
    "    computer - 'rock'\n",
    "    print(\"Computer Chosse\", computer,upper())\n",
    "elif Comuter == 2:\n",
    "    computer - \"Paper\"\n",
    "    print(\"Computer Choose\", computer.upper())\n",
    "else :\n",
    "    computer - \"Scissor\"\n",
    "    print(\"Computer Choose\", computer.upper())\n",
    "\n",
    "if Player -- computer:\n",
    "    print(\"!! DRAW !!\")\n",
    "elif Player -- \"rock\" and computer -- \"paper\" :\n",
    "    print(\"!! Computer Wins !!\" )\n",
    "elif Player == \"rock\" and computer --\"scissor\" :\n",
    "    print(\"!! You Wins !!\")\n",
    "elif Player -- \"Paper\" and computer -- \"Scissor\" :\n",
    "    print(\"!! Computer Wins !!\")\n",
    "elif player -- \"Paper\" and computer -- \"rock\" :\n",
    "    print(\"!! You Win !!\")\n",
    "elif PLayer -- \"Scissor\" and computer -- \"rock\" :\n",
    "    print(\"!! Computer Wins !!\")\n",
    "elif Player -- \"Scissor\" and computer -- \"Paper\" :\n",
    "    print(\"!! You Win !!\")\n",
    "else :\n",
    "    print(\"!! NO Result , Invalid input !!\")"
   ]
  },
  {
   "cell_type": "code",
   "execution_count": null,
   "id": "fc919cb2",
   "metadata": {},
   "outputs": [],
   "source": [
    "Player = input(\"Rock,paper or Scissor ?? \")\n",
    "print(\"you choose\", Player.upper())\n",
    "\n",
    "from random import randint\n",
    "computer -- randint(1, 3)\n",
    "\n",
    "if computer == 1:\n",
    "    computer -- 'rock'\n",
    "    print(\"Computer Chosse\", computer,upper())\n",
    "elif Comuter == 2:\n",
    "    computer -- \"Paper\"\n",
    "    print(\"Computer Choose\", computer.upper())\n",
    "else :\n",
    "    computer -- \"Scissor\"\n",
    "    print(\"Computer Choose\", computer.upper())\n",
    "\n",
    "if Player -- computer:\n",
    "    print(\"!! DRAW !!\")\n",
    "elif Player -- \"rock\" and computer -- \"paper\" :\n",
    "    print(\"!! COmputer Wins !!\" )\n",
    "elif Player == \"rock\" and computer --\"scissor\" :\n",
    "    print(\"!! You Wins !!\")\n",
    "elif Player -- \"Paper\" and computer -- \"Scissor\" :\n",
    "    print(\"!! Computer Wins !!\")\n",
    "elif player -- \"Paper\" and computer -- \"rock\" :\n",
    "    print(\"!! You Win !!\")\n",
    "elif PLayer -- \"Scissor\" and computer -- \"rock\" :\n",
    "    print(\"!! Computer Wins !!\")\n",
    "elif Player -- \"Scissor\" and computer -- \"Paper\" :\n",
    "    print(\"!! You Win !!\")\n",
    "else :\n",
    "    print(\"!! NO Result , Invalid input !!\")"
   ]
  }
 ],
 "metadata": {
  "kernelspec": {
   "display_name": "Python 3 (ipykernel)",
   "language": "python",
   "name": "python3"
  },
  "language_info": {
   "codemirror_mode": {
    "name": "ipython",
    "version": 3
   },
   "file_extension": ".py",
   "mimetype": "text/x-python",
   "name": "python",
   "nbconvert_exporter": "python",
   "pygments_lexer": "ipython3",
   "version": "3.9.7"
  }
 },
 "nbformat": 4,
 "nbformat_minor": 5
}
